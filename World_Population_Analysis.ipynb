{
 "cells": [
  {
   "cell_type": "code",
   "execution_count": 2,
   "id": "9f5ca23b-ea73-4098-9b45-07a6f9347343",
   "metadata": {},
   "outputs": [
    {
     "name": "stdout",
     "output_type": "stream",
     "text": [
      "Requirement already satisfied: pandas in c:\\users\\user\\appdata\\local\\programs\\python\\python39\\lib\\site-packages (2.0.3)\n",
      "Requirement already satisfied: python-dateutil>=2.8.2 in c:\\users\\user\\appdata\\local\\programs\\python\\python39\\lib\\site-packages (from pandas) (2.8.2)\n",
      "Requirement already satisfied: pytz>=2020.1 in c:\\users\\user\\appdata\\local\\programs\\python\\python39\\lib\\site-packages (from pandas) (2023.3)\n",
      "Requirement already satisfied: tzdata>=2022.1 in c:\\users\\user\\appdata\\local\\programs\\python\\python39\\lib\\site-packages (from pandas) (2023.3)\n",
      "Requirement already satisfied: numpy>=1.20.3 in c:\\users\\user\\appdata\\local\\programs\\python\\python39\\lib\\site-packages (from pandas) (1.25.2)\n",
      "Requirement already satisfied: six>=1.5 in c:\\users\\user\\appdata\\local\\programs\\python\\python39\\lib\\site-packages (from python-dateutil>=2.8.2->pandas) (1.16.0)\n",
      "Note: you may need to restart the kernel to use updated packages.\n"
     ]
    }
   ],
   "source": [
    "pip install pandas "
   ]
  },
  {
   "cell_type": "code",
   "execution_count": 3,
   "id": "ace3d2ad-ef37-4b53-8aa2-db1d0691e198",
   "metadata": {},
   "outputs": [],
   "source": [
    "import pandas as pd"
   ]
  },
  {
   "cell_type": "code",
   "execution_count": 6,
   "id": "52cacf7f-0364-41ae-8977-ba1ff637d549",
   "metadata": {},
   "outputs": [],
   "source": [
    "data = pd.read_csv(\"population_by_age_group.csv\")"
   ]
  },
  {
   "cell_type": "code",
   "execution_count": 7,
   "id": "5406c8ee-6fc7-4daa-9599-07f61c27aa84",
   "metadata": {},
   "outputs": [
    {
     "data": {
      "text/html": [
       "<div>\n",
       "<style scoped>\n",
       "    .dataframe tbody tr th:only-of-type {\n",
       "        vertical-align: middle;\n",
       "    }\n",
       "\n",
       "    .dataframe tbody tr th {\n",
       "        vertical-align: top;\n",
       "    }\n",
       "\n",
       "    .dataframe thead th {\n",
       "        text-align: right;\n",
       "    }\n",
       "</style>\n",
       "<table border=\"1\" class=\"dataframe\">\n",
       "  <thead>\n",
       "    <tr style=\"text-align: right;\">\n",
       "      <th></th>\n",
       "      <th>Country</th>\n",
       "      <th>Total</th>\n",
       "      <th>65+</th>\n",
       "      <th>25-64 years</th>\n",
       "      <th>15-24 years</th>\n",
       "      <th>5-14 years</th>\n",
       "      <th>0-4 years</th>\n",
       "    </tr>\n",
       "  </thead>\n",
       "  <tbody>\n",
       "    <tr>\n",
       "      <th>0</th>\n",
       "      <td>Afghanistan</td>\n",
       "      <td>40099460</td>\n",
       "      <td>964016</td>\n",
       "      <td>12995277</td>\n",
       "      <td>8727160</td>\n",
       "      <td>10922454</td>\n",
       "      <td>6490554</td>\n",
       "    </tr>\n",
       "    <tr>\n",
       "      <th>1</th>\n",
       "      <td>Albania</td>\n",
       "      <td>2854710</td>\n",
       "      <td>463442</td>\n",
       "      <td>1527360</td>\n",
       "      <td>399113</td>\n",
       "      <td>323402</td>\n",
       "      <td>141393</td>\n",
       "    </tr>\n",
       "    <tr>\n",
       "      <th>2</th>\n",
       "      <td>Algeria</td>\n",
       "      <td>44177964</td>\n",
       "      <td>2731079</td>\n",
       "      <td>21871300</td>\n",
       "      <td>6007614</td>\n",
       "      <td>8697129</td>\n",
       "      <td>4870841</td>\n",
       "    </tr>\n",
       "    <tr>\n",
       "      <th>3</th>\n",
       "      <td>American Samoa</td>\n",
       "      <td>45056</td>\n",
       "      <td>3088</td>\n",
       "      <td>22433</td>\n",
       "      <td>7141</td>\n",
       "      <td>8365</td>\n",
       "      <td>4029</td>\n",
       "    </tr>\n",
       "    <tr>\n",
       "      <th>4</th>\n",
       "      <td>Andorra</td>\n",
       "      <td>79057</td>\n",
       "      <td>11499</td>\n",
       "      <td>48651</td>\n",
       "      <td>8570</td>\n",
       "      <td>7797</td>\n",
       "      <td>2540</td>\n",
       "    </tr>\n",
       "  </tbody>\n",
       "</table>\n",
       "</div>"
      ],
      "text/plain": [
       "          Country     Total      65+  25-64 years  15-24 years  5-14 years  \\\n",
       "0     Afghanistan  40099460   964016     12995277      8727160    10922454   \n",
       "1         Albania   2854710   463442      1527360       399113      323402   \n",
       "2         Algeria  44177964  2731079     21871300      6007614     8697129   \n",
       "3  American Samoa     45056     3088        22433         7141        8365   \n",
       "4         Andorra     79057    11499        48651         8570        7797   \n",
       "\n",
       "   0-4 years  \n",
       "0    6490554  \n",
       "1     141393  \n",
       "2    4870841  \n",
       "3       4029  \n",
       "4       2540  "
      ]
     },
     "execution_count": 7,
     "metadata": {},
     "output_type": "execute_result"
    }
   ],
   "source": [
    "data.head()"
   ]
  },
  {
   "cell_type": "code",
   "execution_count": 10,
   "id": "77d73f82-2e1f-45da-b79b-ff55c8916a88",
   "metadata": {},
   "outputs": [
    {
     "data": {
      "text/html": [
       "<div>\n",
       "<style scoped>\n",
       "    .dataframe tbody tr th:only-of-type {\n",
       "        vertical-align: middle;\n",
       "    }\n",
       "\n",
       "    .dataframe tbody tr th {\n",
       "        vertical-align: top;\n",
       "    }\n",
       "\n",
       "    .dataframe thead th {\n",
       "        text-align: right;\n",
       "    }\n",
       "</style>\n",
       "<table border=\"1\" class=\"dataframe\">\n",
       "  <thead>\n",
       "    <tr style=\"text-align: right;\">\n",
       "      <th></th>\n",
       "      <th>Total</th>\n",
       "      <th>65+</th>\n",
       "      <th>25-64 years</th>\n",
       "      <th>15-24 years</th>\n",
       "      <th>5-14 years</th>\n",
       "      <th>0-4 years</th>\n",
       "    </tr>\n",
       "  </thead>\n",
       "  <tbody>\n",
       "    <tr>\n",
       "      <th>count</th>\n",
       "      <td>2.350000e+02</td>\n",
       "      <td>2.350000e+02</td>\n",
       "      <td>2.350000e+02</td>\n",
       "      <td>2.350000e+02</td>\n",
       "      <td>2.350000e+02</td>\n",
       "      <td>2.350000e+02</td>\n",
       "    </tr>\n",
       "    <tr>\n",
       "      <th>mean</th>\n",
       "      <td>3.365653e+07</td>\n",
       "      <td>3.239456e+06</td>\n",
       "      <td>1.663291e+07</td>\n",
       "      <td>5.209602e+06</td>\n",
       "      <td>5.717213e+06</td>\n",
       "      <td>2.857348e+06</td>\n",
       "    </tr>\n",
       "    <tr>\n",
       "      <th>std</th>\n",
       "      <td>1.359563e+08</td>\n",
       "      <td>1.459906e+07</td>\n",
       "      <td>7.266853e+07</td>\n",
       "      <td>2.062212e+07</td>\n",
       "      <td>2.107024e+07</td>\n",
       "      <td>9.809743e+06</td>\n",
       "    </tr>\n",
       "    <tr>\n",
       "      <th>min</th>\n",
       "      <td>1.869000e+03</td>\n",
       "      <td>1.590000e+02</td>\n",
       "      <td>8.520000e+02</td>\n",
       "      <td>2.060000e+02</td>\n",
       "      <td>3.690000e+02</td>\n",
       "      <td>1.450000e+02</td>\n",
       "    </tr>\n",
       "    <tr>\n",
       "      <th>25%</th>\n",
       "      <td>4.266510e+05</td>\n",
       "      <td>3.347550e+04</td>\n",
       "      <td>2.388210e+05</td>\n",
       "      <td>6.762500e+04</td>\n",
       "      <td>6.795800e+04</td>\n",
       "      <td>3.648400e+04</td>\n",
       "    </tr>\n",
       "    <tr>\n",
       "      <th>50%</th>\n",
       "      <td>5.457165e+06</td>\n",
       "      <td>3.727000e+05</td>\n",
       "      <td>2.784971e+06</td>\n",
       "      <td>7.462240e+05</td>\n",
       "      <td>7.642670e+05</td>\n",
       "      <td>4.123510e+05</td>\n",
       "    </tr>\n",
       "    <tr>\n",
       "      <th>75%</th>\n",
       "      <td>2.183921e+07</td>\n",
       "      <td>1.534978e+06</td>\n",
       "      <td>9.579148e+06</td>\n",
       "      <td>3.715164e+06</td>\n",
       "      <td>4.494770e+06</td>\n",
       "      <td>2.075203e+06</td>\n",
       "    </tr>\n",
       "    <tr>\n",
       "      <th>max</th>\n",
       "      <td>1.425894e+09</td>\n",
       "      <td>1.875015e+08</td>\n",
       "      <td>8.257142e+08</td>\n",
       "      <td>2.545856e+08</td>\n",
       "      <td>2.462618e+08</td>\n",
       "      <td>1.153074e+08</td>\n",
       "    </tr>\n",
       "  </tbody>\n",
       "</table>\n",
       "</div>"
      ],
      "text/plain": [
       "              Total           65+   25-64 years   15-24 years    5-14 years  \\\n",
       "count  2.350000e+02  2.350000e+02  2.350000e+02  2.350000e+02  2.350000e+02   \n",
       "mean   3.365653e+07  3.239456e+06  1.663291e+07  5.209602e+06  5.717213e+06   \n",
       "std    1.359563e+08  1.459906e+07  7.266853e+07  2.062212e+07  2.107024e+07   \n",
       "min    1.869000e+03  1.590000e+02  8.520000e+02  2.060000e+02  3.690000e+02   \n",
       "25%    4.266510e+05  3.347550e+04  2.388210e+05  6.762500e+04  6.795800e+04   \n",
       "50%    5.457165e+06  3.727000e+05  2.784971e+06  7.462240e+05  7.642670e+05   \n",
       "75%    2.183921e+07  1.534978e+06  9.579148e+06  3.715164e+06  4.494770e+06   \n",
       "max    1.425894e+09  1.875015e+08  8.257142e+08  2.545856e+08  2.462618e+08   \n",
       "\n",
       "          0-4 years  \n",
       "count  2.350000e+02  \n",
       "mean   2.857348e+06  \n",
       "std    9.809743e+06  \n",
       "min    1.450000e+02  \n",
       "25%    3.648400e+04  \n",
       "50%    4.123510e+05  \n",
       "75%    2.075203e+06  \n",
       "max    1.153074e+08  "
      ]
     },
     "execution_count": 10,
     "metadata": {},
     "output_type": "execute_result"
    }
   ],
   "source": [
    "data.describe()"
   ]
  },
  {
   "cell_type": "code",
   "execution_count": 11,
   "id": "4464bc96-4e42-4230-97b5-16f5f92c57de",
   "metadata": {},
   "outputs": [
    {
     "data": {
      "image/png": "[encoded data removed]",
      "text/plain": [
       "<Figure size 640x480 with 1 Axes>"
      ]
     },
     "metadata": {},
     "output_type": "display_data"
    }
   ],
   "source": [
    "import matplotlib.pyplot as plt\n",
    "\n",
    "# Sample data\n",
    "ages = [22, 25, 29, 34, 45, 50, 55, 60, 65, 70, 75, 80, 85]\n",
    "\n",
    "# Create histogram\n",
    "plt.hist(ages, bins=10, edgecolor='black')\n",
    "plt.xlabel('Age')\n",
    "plt.ylabel('Count')\n",
    "plt.title('Distribution of Ages in a Population')\n",
    "plt.show()\n"
   ]
  },
  {
   "cell_type": "code",
   "execution_count": null,
   "id": "69fa13a2-4240-432e-96d1-aac16188223a",
   "metadata": {},
   "outputs": [],
   "source": []
  }
 ],
 "metadata": {
  "kernelspec": {
   "display_name": "Python 3 (ipykernel)",
   "language": "python",
   "name": "python3"
  },
  "language_info": {
   "codemirror_mode": {
    "name": "ipython",
    "version": 3
   },
   "file_extension": ".py",
   "mimetype": "text/x-python",
   "name": "python",
   "nbconvert_exporter": "python",
   "pygments_lexer": "ipython3",
   "version": "3.9.13"
  }
 },
 "nbformat": 4,
 "nbformat_minor": 5
}
